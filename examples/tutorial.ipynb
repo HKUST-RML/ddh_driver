{
 "cells": [
  {
   "cell_type": "markdown",
   "id": "499f9ab6",
   "metadata": {},
   "source": [
    "# Direct-Drive Hand Tutorial"
   ]
  },
  {
   "cell_type": "markdown",
   "id": "80bbe271",
   "metadata": {},
   "source": [
    "## Getting Started"
   ]
  },
  {
   "cell_type": "markdown",
   "id": "3d421c8f",
   "metadata": {},
   "source": [
    "Add the repo root to `PYTHONPATH` and import `ddh_driver`"
   ]
  },
  {
   "cell_type": "code",
   "execution_count": 1,
   "id": "63e26143",
   "metadata": {},
   "outputs": [],
   "source": [
    "import time\n",
    "import sys\n",
    "sys.path.append('..')\n",
    "from ddh_driver import Gripper"
   ]
  },
  {
   "cell_type": "markdown",
   "id": "27057076",
   "metadata": {},
   "source": [
    "Connect to the gripper using configuration file `ddh_default.yaml`"
   ]
  },
  {
   "cell_type": "code",
   "execution_count": 2,
   "id": "105d583f",
   "metadata": {},
   "outputs": [
    {
     "name": "stdout",
     "output_type": "stream",
     "text": [
      "Load configuration at /home/sheep/code/ddh_driver/config/default.yaml\n",
      "Connecting to Odrive(s)...\n",
      "Found Odrive_L\n",
      "Found Odrive_R\n"
     ]
    }
   ],
   "source": [
    "gripper = Gripper('default')"
   ]
  },
  {
   "cell_type": "markdown",
   "id": "7043c52e",
   "metadata": {},
   "source": [
    "Arm(disarm) the motors"
   ]
  },
  {
   "cell_type": "code",
   "execution_count": 16,
   "id": "3f6bcd6b",
   "metadata": {},
   "outputs": [],
   "source": [
    "gripper.arm()\n",
    "# gripper.disarm()"
   ]
  },
  {
   "cell_type": "markdown",
   "id": "181f318e",
   "metadata": {},
   "source": [
    "control the gripper in parallel jaw mode"
   ]
  },
  {
   "cell_type": "code",
   "execution_count": 35,
   "id": "e0619d1d",
   "metadata": {},
   "outputs": [],
   "source": [
    "gripper.set_parallel_jaw(20,0)\n",
    "time.sleep(0.5)\n",
    "gripper.set_parallel_jaw(15,0)\n",
    "time.sleep(0.5)\n",
    "gripper.set_parallel_jaw(10,0)"
   ]
  },
  {
   "cell_type": "markdown",
   "id": "c9a7cf9a",
   "metadata": {},
   "source": [
    "## Basic Usages"
   ]
  },
  {
   "cell_type": "markdown",
   "id": "3c07ed99",
   "metadata": {},
   "source": [
    "### $\\alpha_1  - \\alpha_2$ Parameterization\n",
    "\n",
    "Finger direction and span"
   ]
  },
  {
   "cell_type": "code",
   "execution_count": 4,
   "id": "1c018f99",
   "metadata": {},
   "outputs": [],
   "source": [
    "gripper.left_a1 = -20\n",
    "gripper.left_a2 = 20\n",
    "gripper.right_a1 = 20\n",
    "gripper.right_a2 = 20"
   ]
  },
  {
   "cell_type": "markdown",
   "id": "946d1ebf",
   "metadata": {},
   "source": [
    "### $\\theta_1 - \\theta_2 $ Parameterization\n",
    "\n",
    "Linkage angles"
   ]
  },
  {
   "cell_type": "markdown",
   "id": "78673bfc",
   "metadata": {},
   "source": [
    "### Parallel Jaw $\\alpha_1 - \\phi$ "
   ]
  }
 ],
 "metadata": {
  "kernelspec": {
   "display_name": "Python 3",
   "language": "python",
   "name": "python3"
  },
  "language_info": {
   "codemirror_mode": {
    "name": "ipython",
    "version": 3
   },
   "file_extension": ".py",
   "mimetype": "text/x-python",
   "name": "python",
   "nbconvert_exporter": "python",
   "pygments_lexer": "ipython3",
   "version": "3.6.9"
  }
 },
 "nbformat": 4,
 "nbformat_minor": 5
}
