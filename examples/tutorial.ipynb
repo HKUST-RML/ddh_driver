{
 "cells": [
  {
   "cell_type": "markdown",
   "id": "499f9ab6",
   "metadata": {},
   "source": [
    "# Direct-Drive Hand Tutorial"
   ]
  },
  {
   "cell_type": "markdown",
   "id": "80bbe271",
   "metadata": {},
   "source": [
    "## Getting Started"
   ]
  },
  {
   "cell_type": "markdown",
   "id": "3d421c8f",
   "metadata": {},
   "source": [
    "Add the repo root to `PYTHONPATH` and import `ddh_driver`"
   ]
  },
  {
   "cell_type": "code",
   "execution_count": null,
   "id": "63e26143",
   "metadata": {},
   "outputs": [],
   "source": [
    "import time\n",
    "import sys\n",
    "sys.path.append('..')\n",
    "from ddh_driver import Gripper"
   ]
  },
  {
   "cell_type": "markdown",
   "id": "27057076",
   "metadata": {},
   "source": [
    "Connect to the gripper using configuration file `ddh_default.yaml`"
   ]
  },
  {
   "cell_type": "code",
   "execution_count": null,
   "id": "105d583f",
   "metadata": {},
   "outputs": [],
   "source": [
    "gripper = Gripper('default')"
   ]
  },
  {
   "cell_type": "markdown",
   "id": "7043c52e",
   "metadata": {},
   "source": [
    "Arm(disarm) the motors"
   ]
  },
  {
   "cell_type": "code",
   "execution_count": null,
   "id": "3f6bcd6b",
   "metadata": {},
   "outputs": [],
   "source": [
    "gripper.arm()\n",
    "# gripper.disarm()"
   ]
  },
  {
   "cell_type": "markdown",
   "id": "181f318e",
   "metadata": {},
   "source": [
    "control the gripper in parallel jaw mode"
   ]
  },
  {
   "cell_type": "code",
   "execution_count": null,
   "id": "e0619d1d",
   "metadata": {},
   "outputs": [],
   "source": [
    "gripper.set_parallel_jaw(10,0)"
   ]
  },
  {
   "cell_type": "markdown",
   "id": "c9a7cf9a",
   "metadata": {},
   "source": [
    "## Basic Usages"
   ]
  },
  {
   "cell_type": "markdown",
   "id": "3c07ed99",
   "metadata": {},
   "source": [
    "### $\\alpha_1  - \\alpha_2$ Parameterization\n",
    "\n",
    "Finger direction and span"
   ]
  },
  {
   "cell_type": "code",
   "execution_count": null,
   "id": "1c018f99",
   "metadata": {},
   "outputs": [],
   "source": [
    "gripper.left_a1 = -20\n",
    "gripper.left_a2 = 20\n",
    "gripper.right_a1 = 20\n",
    "gripper.right_a2 = 20"
   ]
  },
  {
   "cell_type": "markdown",
   "id": "946d1ebf",
   "metadata": {},
   "source": [
    "### $\\theta_1 - \\theta_2 $ Parameterization\n",
    "\n",
    "Linkage angles"
   ]
  },
  {
   "cell_type": "code",
   "execution_count": null,
   "id": "2f9464cb",
   "metadata": {},
   "outputs": [],
   "source": [
    "gripper.L0.theta = 0\n",
    "gripper.L1.theta = -30\n",
    "gripper.R0.theta = 0\n",
    "gripper.R1.theta = 30"
   ]
  },
  {
   "cell_type": "markdown",
   "id": "78673bfc",
   "metadata": {},
   "source": [
    "### Parallel Jaw $\\alpha_1 - \\phi$ "
   ]
  },
  {
   "cell_type": "code",
   "execution_count": null,
   "id": "64c2a35e",
   "metadata": {},
   "outputs": [],
   "source": [
    "gripper.set_parallel_jaw(20,0)\n",
    "time.sleep(0.5)\n",
    "gripper.set_parallel_jaw(15,0)\n",
    "time.sleep(0.5)\n",
    "gripper.set_parallel_jaw(10,0)"
   ]
  }
 ],
 "metadata": {
  "kernelspec": {
   "display_name": "Python 3",
   "language": "python",
   "name": "python3"
  },
  "language_info": {
   "codemirror_mode": {
    "name": "ipython",
    "version": 3
   },
   "file_extension": ".py",
   "mimetype": "text/x-python",
   "name": "python",
   "nbconvert_exporter": "python",
   "pygments_lexer": "ipython3",
   "version": "3.6.9"
  }
 },
 "nbformat": 4,
 "nbformat_minor": 5
}
