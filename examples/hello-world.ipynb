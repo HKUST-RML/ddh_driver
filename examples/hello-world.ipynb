{
 "cells": [
  {
   "cell_type": "markdown",
   "id": "499f9ab6",
   "metadata": {},
   "source": [
    "# Hello, Direct-Drive Hand (DDH)"
   ]
  },
  {
   "cell_type": "code",
   "execution_count": null,
   "id": "8efc1aa4",
   "metadata": {},
   "outputs": [],
   "source": [
    "Add the repo root to `PYTHONPATH`"
   ]
  },
  {
   "cell_type": "code",
   "execution_count": null,
   "id": "63e26143",
   "metadata": {},
   "outputs": [],
   "source": [
    "import sys\n",
    "sys.path.append('..')"
   ]
  },
  {
   "cell_type": "code",
   "execution_count": null,
   "id": "f3a63b70",
   "metadata": {},
   "outputs": [],
   "source": [
    "from pyddh import DDGripper"
   ]
  },
  {
   "cell_type": "markdown",
   "id": "27057076",
   "metadata": {},
   "source": [
    "Connect to the gripper using configuration file `ddh_default.yaml`"
   ]
  },
  {
   "cell_type": "code",
   "execution_count": null,
   "id": "105d583f",
   "metadata": {},
   "outputs": [],
   "source": [
    "gripper = DDGripper('default')"
   ]
  },
  {
   "cell_type": "markdown",
   "id": "7043c52e",
   "metadata": {},
   "source": [
    "Arm the motors"
   ]
  },
  {
   "cell_type": "code",
   "execution_count": null,
   "id": "3f6bcd6b",
   "metadata": {},
   "outputs": [],
   "source": [
    "gripper.arm()\n",
    "# gripper.disarm()"
   ]
  },
  {
   "cell_type": "markdown",
   "id": "c9a7cf9a",
   "metadata": {},
   "source": [
    "# Basic Usages"
   ]
  },
  {
   "cell_type": "markdown",
   "id": "1abb5a62",
   "metadata": {},
   "source": [
    "## Access Actuators\n",
    "\n",
    "The `Actuator` class provides interface for sensing and control of each actuators. They can be accessed via properties of `DDGripper` - `gripper.R0`, `gripper.R1`, `gripper.L0`, and `gripper.L1`."
   ]
  },
  {
   "cell_type": "markdown",
   "id": "6b6bf39b",
   "metadata": {},
   "source": [
    "### `Actuator.theta` \n",
    "`Actuator.theta` is the angular position of the link accociated with that actuator.\n",
    "You can __read and write__ this property."
   ]
  },
  {
   "cell_type": "code",
   "execution_count": null,
   "id": "c8971ba1",
   "metadata": {},
   "outputs": [],
   "source": [
    "print(gripper.R0.theta)"
   ]
  },
  {
   "cell_type": "code",
   "execution_count": null,
   "id": "7bb06ac4",
   "metadata": {},
   "outputs": [],
   "source": [
    "gripper.R0.theta = 0\n",
    "gripper.R1.theta = 60"
   ]
  },
  {
   "cell_type": "markdown",
   "id": "526ffbf8",
   "metadata": {},
   "source": [
    "### `Actuator.motor_pos`"
   ]
  },
  {
   "cell_type": "markdown",
   "id": "a9e0cee9",
   "metadata": {},
   "source": [
    "### Actuator"
   ]
  },
  {
   "cell_type": "code",
   "execution_count": null,
   "id": "fe7887e0",
   "metadata": {},
   "outputs": [],
   "source": [
    "gripper.set_right_a1_a2(10,20)"
   ]
  }
 ],
 "metadata": {
  "kernelspec": {
   "display_name": "Python 3",
   "language": "python",
   "name": "python3"
  },
  "language_info": {
   "codemirror_mode": {
    "name": "ipython",
    "version": 3
   },
   "file_extension": ".py",
   "mimetype": "text/x-python",
   "name": "python",
   "nbconvert_exporter": "python",
   "pygments_lexer": "ipython3",
   "version": "3.6.9"
  }
 },
 "nbformat": 4,
 "nbformat_minor": 5
}
