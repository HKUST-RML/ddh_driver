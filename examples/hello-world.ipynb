{
 "cells": [
  {
   "cell_type": "markdown",
   "id": "5e655902",
   "metadata": {},
   "source": [
    "Add the repo root to `PYTHONPATH`"
   ]
  },
  {
   "cell_type": "code",
   "execution_count": 5,
   "id": "a7eb4280",
   "metadata": {},
   "outputs": [],
   "source": [
    "import sys\n",
    "sys.path.append('..')"
   ]
  },
  {
   "cell_type": "code",
   "execution_count": 8,
   "id": "e3584423",
   "metadata": {},
   "outputs": [],
   "source": [
    "from pyddh.ddh import DDGripper"
   ]
  },
  {
   "cell_type": "markdown",
   "id": "13b4da6d",
   "metadata": {},
   "source": [
    "Connect to the gripper using configuration file `ddh_default.yaml`"
   ]
  },
  {
   "cell_type": "code",
   "execution_count": 9,
   "id": "b0a219fb",
   "metadata": {},
   "outputs": [
    {
     "name": "stdout",
     "output_type": "stream",
     "text": [
      "load config /home/sheep/code/pyddh/config/ddh_default.yaml\n",
      "reading gripper config...\n",
      "connecting to odrive...\n",
      "found left finger\n",
      "found right finger\n"
     ]
    }
   ],
   "source": [
    "gripper = DDGripper('ddh_default')"
   ]
  },
  {
   "cell_type": "markdown",
   "id": "ba79daaa",
   "metadata": {},
   "source": [
    "Arm the motors"
   ]
  },
  {
   "cell_type": "code",
   "execution_count": 10,
   "id": "cd83cd57",
   "metadata": {},
   "outputs": [],
   "source": [
    "gripper.arm()"
   ]
  },
  {
   "cell_type": "markdown",
   "id": "c4f86352",
   "metadata": {},
   "source": [
    "State of the actuators can be accessed"
   ]
  },
  {
   "cell_type": "code",
   "execution_count": 11,
   "id": "a6d4936d",
   "metadata": {},
   "outputs": [
    {
     "data": {
      "text/plain": [
       "-9.5148468018211"
      ]
     },
     "execution_count": 11,
     "metadata": {},
     "output_type": "execute_result"
    }
   ],
   "source": [
    "gripper.R0.theta"
   ]
  },
  {
   "cell_type": "code",
   "execution_count": 12,
   "id": "a1d3de10",
   "metadata": {},
   "outputs": [],
   "source": [
    "gripper.set_right_a1_a2(10,20)"
   ]
  }
 ],
 "metadata": {
  "kernelspec": {
   "display_name": "Python 3",
   "language": "python",
   "name": "python3"
  },
  "language_info": {
   "codemirror_mode": {
    "name": "ipython",
    "version": 3
   },
   "file_extension": ".py",
   "mimetype": "text/x-python",
   "name": "python",
   "nbconvert_exporter": "python",
   "pygments_lexer": "ipython3",
   "version": "3.6.9"
  }
 },
 "nbformat": 4,
 "nbformat_minor": 5
}
