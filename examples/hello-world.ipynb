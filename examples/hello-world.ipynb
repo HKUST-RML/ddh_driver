{
 "cells": [
  {
   "cell_type": "markdown",
   "id": "499f9ab6",
   "metadata": {},
   "source": [
    "Add the repo root to `PYTHONPATH`"
   ]
  },
  {
   "cell_type": "code",
   "execution_count": 1,
   "id": "63e26143",
   "metadata": {},
   "outputs": [],
   "source": [
    "import sys\n",
    "sys.path.append('..')"
   ]
  },
  {
   "cell_type": "code",
   "execution_count": 2,
   "id": "f3a63b70",
   "metadata": {},
   "outputs": [],
   "source": [
    "from pyddh import DDGripper"
   ]
  },
  {
   "cell_type": "markdown",
   "id": "27057076",
   "metadata": {},
   "source": [
    "Connect to the gripper using configuration file `ddh_default.yaml`"
   ]
  },
  {
   "cell_type": "code",
   "execution_count": 3,
   "id": "105d583f",
   "metadata": {},
   "outputs": [
    {
     "name": "stdout",
     "output_type": "stream",
     "text": [
      "load config /home/sheep/code/pyddh/config/ddh_default.yaml\n",
      "reading gripper config...\n",
      "connecting to odrive...\n",
      "found left finger\n",
      "found right finger\n"
     ]
    },
    {
     "name": "stderr",
     "output_type": "stream",
     "text": [
      "2022-01-16 21:06:36.666 (   1.826s) [        6EFB7240]         api_config.cpp:231   INFO| Loaded default config\n",
      "2022-01-16 21:06:36.667 (   1.827s) [        6EFB7240]             common.cpp:65    INFO| git:/branch:HEAD/build:Release/compiler:GNU-9.4.0/link:SHARED\n"
     ]
    }
   ],
   "source": [
    "gripper = DDGripper('ddh_default')"
   ]
  },
  {
   "cell_type": "markdown",
   "id": "7043c52e",
   "metadata": {},
   "source": [
    "Arm the motors"
   ]
  },
  {
   "cell_type": "code",
   "execution_count": null,
   "id": "3f6bcd6b",
   "metadata": {},
   "outputs": [],
   "source": [
    "gripper.arm()"
   ]
  },
  {
   "cell_type": "markdown",
   "id": "1abb5a62",
   "metadata": {},
   "source": [
    "State of the actuators can be accessed"
   ]
  },
  {
   "cell_type": "code",
   "execution_count": null,
   "id": "c8971ba1",
   "metadata": {},
   "outputs": [],
   "source": [
    "gripper.R0.theta"
   ]
  },
  {
   "cell_type": "code",
   "execution_count": null,
   "id": "fe7887e0",
   "metadata": {},
   "outputs": [],
   "source": [
    "gripper.set_right_a1_a2(10,20)"
   ]
  },
  {
   "cell_type": "code",
   "execution_count": null,
   "id": "c3a35ee7",
   "metadata": {},
   "outputs": [],
   "source": [
    "gripper.disarm()"
   ]
  },
  {
   "cell_type": "code",
   "execution_count": 5,
   "id": "2c3e909c",
   "metadata": {},
   "outputs": [],
   "source": [
    "gripper.data_stream.enabled = True"
   ]
  },
  {
   "cell_type": "code",
   "execution_count": 13,
   "id": "b31a8a7e",
   "metadata": {},
   "outputs": [
    {
     "data": {
      "text/plain": [
       "'207E39775453'"
      ]
     },
     "execution_count": 13,
     "metadata": {},
     "output_type": "execute_result"
    }
   ],
   "source": [
    "#hex(gripper.finger_L.serial_number,'X')\n",
    "format(gripper.finger_L.serial_number,'X')"
   ]
  }
 ],
 "metadata": {
  "kernelspec": {
   "display_name": "Python 3",
   "language": "python",
   "name": "python3"
  },
  "language_info": {
   "codemirror_mode": {
    "name": "ipython",
    "version": 3
   },
   "file_extension": ".py",
   "mimetype": "text/x-python",
   "name": "python",
   "nbconvert_exporter": "python",
   "pygments_lexer": "ipython3",
   "version": "3.9.7"
  }
 },
 "nbformat": 4,
 "nbformat_minor": 5
}
