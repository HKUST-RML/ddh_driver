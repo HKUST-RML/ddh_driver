{
 "cells": [
  {
   "cell_type": "markdown",
   "id": "0d5e84e0",
   "metadata": {},
   "source": [
    "# API Documentation"
   ]
  },
  {
   "cell_type": "markdown",
   "id": "e1e73f25",
   "metadata": {},
   "source": [
    "## `ddh_driver.Actuator` class"
   ]
  },
  {
   "cell_type": "markdown",
   "id": "de0e8043",
   "metadata": {},
   "source": [
    "### `Actuator.encoder`  property"
   ]
  },
  {
   "cell_type": "markdown",
   "id": "30e3eb41",
   "metadata": {},
   "source": [
    "### `Actuator.motor_pos`  property"
   ]
  },
  {
   "cell_type": "markdown",
   "id": "1b7e355a",
   "metadata": {},
   "source": [
    "### `Actuator.theta`  property"
   ]
  },
  {
   "cell_type": "markdown",
   "id": "bbeb209f",
   "metadata": {},
   "source": [
    "`Actuator.theta` is the angular position (degrees) of the link accociated with that actuator.\n",
    "You can __read and write__ this property."
   ]
  },
  {
   "cell_type": "code",
   "execution_count": null,
   "id": "a41816d6",
   "metadata": {},
   "outputs": [],
   "source": [
    "# read\n",
    "print(gripper.R0.theta)"
   ]
  },
  {
   "cell_type": "code",
   "execution_count": null,
   "id": "5b40abdc",
   "metadata": {},
   "outputs": [],
   "source": [
    "# write\n",
    "gripper.R0.theta = 0\n",
    "gripper.R1.theta = 60"
   ]
  },
  {
   "cell_type": "markdown",
   "id": "986dce36",
   "metadata": {},
   "source": [
    "## `ddh_driver.Gripper` class"
   ]
  }
 ],
 "metadata": {
  "kernelspec": {
   "display_name": "Python 3",
   "language": "python",
   "name": "python3"
  },
  "language_info": {
   "codemirror_mode": {
    "name": "ipython",
    "version": 3
   },
   "file_extension": ".py",
   "mimetype": "text/x-python",
   "name": "python",
   "nbconvert_exporter": "python",
   "pygments_lexer": "ipython3",
   "version": "3.6.9"
  }
 },
 "nbformat": 4,
 "nbformat_minor": 5
}
